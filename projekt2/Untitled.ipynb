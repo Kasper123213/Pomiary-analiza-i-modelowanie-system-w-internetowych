{
 "cells": [
  {
   "cell_type": "markdown",
   "source": [
    "# 2. Drugi zestaw danych - Google Merch Shop"
   ],
   "metadata": {
    "collapsed": false
   },
   "id": "b9d9c6f980072771"
  },
  {
   "cell_type": "markdown",
   "source": [
    "## a) Analiza poziomu zaangażowania"
   ],
   "metadata": {
    "collapsed": false
   },
   "id": "2d0db1484d2baea7"
  },
  {
   "cell_type": "markdown",
   "source": [
    "![wyswietlenia](wyswietlenia.png)"
   ],
   "metadata": {
    "collapsed": false
   },
   "id": "99583063253c7034"
  },
  {
   "cell_type": "markdown",
   "source": [
    "W okresie od 30 marca do 26 kwietnia było 257 tysięcy wejść Google Merch Shop poprzez witrynę internetową oraz aplikacje mobilne. Dzienne wejścia wahają się między ~5.000 do ~12.500. Strona utrzymuje stały ruch i nie ma przestojów w odwiedzających ją potencjalnych klientach."
   ],
   "metadata": {
    "collapsed": false
   },
   "id": "fd4f87e7c2293a26"
  },
  {
   "cell_type": "markdown",
   "source": [
    "![czas](czas.png)"
   ],
   "metadata": {
    "collapsed": false
   },
   "id": "66b2cca88882cae1"
  },
  {
   "cell_type": "markdown",
   "source": [
    "W okresie od 30 marca do 26 kwietnia średni czas zaangażowania na aktywnego użytkownika wynosił 1min 24sek. Dane wahają się między 40sek a 1min 40sek na użytkownika. Pokazuje to, ile czasu wybierając, przeglądając i kupując produkty spędza na stronie statystyczny klient. "
   ],
   "metadata": {
    "collapsed": false
   },
   "id": "f6b4c8aac27dde8a"
  },
  {
   "cell_type": "markdown",
   "source": [
    "![przychod](przychod.png)"
   ],
   "metadata": {
    "collapsed": false
   },
   "id": "d7289fc8dd6ea62d"
  },
  {
   "cell_type": "markdown",
   "source": [
    "Strona w tym okresie wygenerowała 176.000 dolarów przychodu z samej sprzedaży produktów. Sądząc po $0 przychodzie z reklam przy około 10.000 odwiedzających dziennie, strona musi nie posiadać reklam zewnętrznych dostawców. Na wykresie da się zauważyć również 3 anomalie w dniach 3, 15 oraz 23 kwietnia, kiedy oczekiwany przychód był niższy lub wyższy niż zakładany.\n",
    "\n",
    "3.04 - oczekiwana wartość 8.891 dolarów, rzeczywista wartość 3.564 dolarów (↓59,9%)\n",
    "15.04 - oczekiwana wartość 7.057 dolarów, rzeczywista wartość 19.588 dolarów (↑177,5%)\n",
    "23.04 - oczekiwana wartość 9.510 dolarów, rzeczywista wartość 4.043 dolarów (↓57,5%)"
   ],
   "metadata": {
    "collapsed": false
   },
   "id": "f495f749e8bc442c"
  },
  {
   "cell_type": "markdown",
   "source": [
    "![kupujacy](kupujacy.png)"
   ],
   "metadata": {
    "collapsed": false
   },
   "id": "17dbf072818d9818"
  },
  {
   "cell_type": "markdown",
   "source": [
    "Strona generuje bardzo duże zainteresowanie wśród nowych użytkowników - na 871 kupujących, aż 764 to nowi klienci kupujący po raz pierwszy stanowiąc 87,7% ogółu. Może to stanowić o pozytywnych aspektach tj. budzenie zainteresowania wśród nowych potencjalnych klientów, jak i również o negatywnych tj. nieudolność w budowaniu stałej bazy powracających klientów. Dzienna ilość zakupów mimo wszystko jest dość nieregularna, wahając się od 11 do 52 kupujących."
   ],
   "metadata": {
    "collapsed": false
   },
   "id": "21449a397599d62a"
  },
  {
   "cell_type": "markdown",
   "source": [
    "![wydatki](wydatki.png)"
   ],
   "metadata": {
    "collapsed": false
   },
   "id": "67aea32b3937d95b"
  },
  {
   "cell_type": "markdown",
   "source": [
    "Ten wykres przedstawia średni przychód z zakupów na aktywnego użytkownika. Nie oddaje on średniej ilości wydanych pieniędzy na osobę kupującą, ponieważ uwzględnia w danych wszystkie osoby odwiedzające stronę, nawet te, które ostatecznie nie podejmują się finalizacji kupna żadnego produktu. Średni przychód z każdego użytkownika odwiedzającego stronę w omawianym przedziale czasowym wynosi 3,78 dolara. Dane wahają się między 0,69 dolara (13 kwietnia) do 9,56 dolara (16 kwietnia) kiedy to również wystąpiła anomalia i 193,5% wzrost względem wartości oczekiwanej w tym dniu wynoszącej 3,26 dolara."
   ],
   "metadata": {
    "collapsed": false
   },
   "id": "f95c9da3b024259"
  },
  {
   "cell_type": "markdown",
   "source": [
    "## b) CBMG - Customer Behaviour Model Graph"
   ],
   "metadata": {
    "collapsed": false
   },
   "id": "d510afaa29dc3a9a"
  },
  {
   "cell_type": "markdown",
   "source": [
    "W modelu zachowań klienta dla sklepu Google Merchandise Store użytkownik zazwyczaj rozpoczyna swoją wizytę od strony głównej lub stron kategorii. Następnie przegląda listę produktów i wchodzi na stronę konkretnego produktu. Po wybraniu interesującego artykułu użytkownik dodaje go do koszyka, przechodzi przez proces płatności (checkout), a finalnie dokonuje zakupu, który jest potwierdzony na stronie z podziękowaniem za zamówienie. Model ten obrazuje ścieżkę klienta e-commerce i pozwala na analizę miejsc, w których mogą pojawić się spadki zaangażowania."
   ],
   "metadata": {
    "collapsed": false
   },
   "id": "a0ed42eeb9bf623"
  },
  {
   "cell_type": "markdown",
   "source": [
    "![CBMG](wykres.png)"
   ],
   "metadata": {
    "collapsed": false
   },
   "id": "cfb37910e4930a4e"
  },
  {
   "cell_type": "markdown",
   "source": [
    "Schemat prosty:\n",
    "\n",
    "Wejście na stronę główną\n",
    "        ↓\n",
    "Wejście na stronę konkretnego produktu\n",
    "        ↓\n",
    "Dodanie produktu do koszyka\n",
    "        ↓\n",
    "Przejście do płatności\n",
    "        ↓\n",
    "Zakup i potwierdzenie transakcji"
   ],
   "metadata": {
    "collapsed": false
   },
   "id": "1f36c3e28a84990a"
  },
  {
   "cell_type": "markdown",
   "source": [
    "Dane przedstawiają średnią ilość osób odwiedzających witrynę między 30 marca a 26 kwietnia. Największy spadek zainteresowania i tym samym ilość użytkowników którzy wychodzą ze strony widać już na stronie startowej. Współczynnik porzuceń wynosi tam aż 77,3%. Oznacza to, że najprawdopodobniej użytkownicy przeglądając listę produktów nie decydują się na żaden z nich, nie przechodząc dalej na stronę danego produktu. Z użytkowników którzy wyświetlają produkt, aż 71,4% nie postanawia dodać go do koszyka, nie kontynuując tym samym zakupów. 49,1% klientów, którzy dodali produkt do koszyka nie rozpoczyna procesu finalizacji transakcji, a 48,4% z tych którzy go rozpoczynają, nie kończą ostatecznie płatnością i porzucają dany produkt. Dane przekładają się na 1,6% osób, które weszły na stronę, ostatecznie kupuje produkt."
   ],
   "metadata": {
    "collapsed": false
   },
   "id": "107c7e3efcc8abb1"
  }
 ],
 "metadata": {},
 "nbformat": 4,
 "nbformat_minor": 5
}
