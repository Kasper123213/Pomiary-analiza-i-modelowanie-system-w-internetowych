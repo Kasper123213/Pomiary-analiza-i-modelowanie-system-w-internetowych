{
 "cells": [
  {
   "cell_type": "code",
   "execution_count": 16,
   "id": "b0546868-0658-49af-bf15-3e61c2e1a2a6",
   "metadata": {},
   "outputs": [],
   "source": [
    "import pandas as pd\n",
    "import numpy as np\n",
    "from datetime import datetime\n",
    "from sklearn.model_selection import train_test_split\n",
    "from sklearn.preprocessing import StandardScaler, OneHotEncoder\n",
    "from sklearn.compose import ColumnTransformer\n",
    "from sklearn.pipeline import Pipeline\n",
    "from sklearn.linear_model import LinearRegression\n",
    "from sklearn.ensemble import RandomForestRegressor\n",
    "from xgboost import XGBRegressor\n",
    "from sklearn.metrics import mean_absolute_error, r2_score\n",
    "\n",
    "from catboost import CatBoostRegressor\n",
    "\n",
    "import time\n"
   ]
  },
  {
   "cell_type": "code",
   "execution_count": 14,
   "id": "ee4f0916-f19c-445f-9b24-d2d38b1bd7b2",
   "metadata": {},
   "outputs": [],
   "source": [
    "\n",
    "df = pd.read_csv('dane/2023/curr_lct_ul.csv',\n",
    "                   sep=',',\n",
    "                   header=0\n",
    "                  )\n",
    "\n",
    "\n",
    "\n",
    "\n",
    "# Wybór parametru docelowego (bytes_sec)\n",
    "target = 'bytes_sec'\n",
    "\n",
    "# Feature engineering - ekstrakcja cech czasowych\n",
    "df['dtime'] = pd.to_datetime(df['dtime'])\n",
    "df['hour'] = df['dtime'].dt.hour\n",
    "df['day_of_week'] = df['dtime'].dt.dayofweek\n",
    "df['day_of_month'] = df['dtime'].dt.day\n",
    "\n",
    "# Usuwanie zbędnych kolumn\n",
    "df = df.drop(['ddate', 'dtime', 'unit_id', 'packets_received', 'packets_sent', 'successes', 'failures',], axis=1)\n",
    "\n",
    "# Podział na cechy i zmienną docelową\n",
    "X = df.drop([target], axis=1)\n",
    "y = df[target]\n",
    "\n",
    "# Transformacje danych\n",
    "numeric_features = ['packet_size', \n",
    "                   'bytes_total', 'duration', \n",
    "                   'hour', 'day_of_week', 'day_of_month']\n",
    "\n",
    "categorical_features = ['target', 'address', 'error_code']\n",
    "\n",
    "preprocessor = ColumnTransformer(\n",
    "    transformers=[\n",
    "        ('num', StandardScaler(), numeric_features),\n",
    "        ('cat', OneHotEncoder(handle_unknown='ignore'), categorical_features)\n",
    "    ])\n",
    "\n",
    "\n",
    "# Model 1: Random Forest\n",
    "model_rf = Pipeline(steps=[\n",
    "    ('preprocessor', preprocessor),\n",
    "    ('regressor', RandomForestRegressor(\n",
    "        n_estimators=10,\n",
    "        max_depth=5,\n",
    "        random_state=42\n",
    "    ))\n",
    "])\n",
    "\n",
    "# Model 2: XGBoost\n",
    "model_xgb = Pipeline(steps=[\n",
    "    ('preprocessor', preprocessor),\n",
    "    ('regressor', XGBRegressor(\n",
    "        n_estimators=9,\n",
    "        max_depth=6,\n",
    "        learning_rate=0.1,\n",
    "        random_state=42\n",
    "    ))\n",
    "])\n",
    "\n",
    "# Model 3: CatBoostRegressor\n",
    "model_cbr = CatBoostRegressor(\n",
    "    cat_features=['target', 'address', 'error_code'],\n",
    "    iterations=20,      \n",
    "    depth=6,\n",
    "    verbose=0  # Wyłączenie logów\n",
    ")\n",
    "\n",
    "# Lista modeli do ewaluacji\n",
    "models = {\n",
    "    'Random Forest': model_rf, #0.94\n",
    "    'XGBoost': model_xgb, #0.76\n",
    "    'cat' : model_cbr,#0.95\n",
    "}\n"
   ]
  },
  {
   "cell_type": "markdown",
   "id": "491749e4-dbac-4f27-8ca0-ae376557617f",
   "metadata": {},
   "source": [
    "<h2>Pojedynczo</h2>"
   ]
  },
  {
   "cell_type": "code",
   "execution_count": 15,
   "id": "04cb28b6-b468-4288-b667-ccd9be451ba7",
   "metadata": {},
   "outputs": [
    {
     "name": "stdout",
     "output_type": "stream",
     "text": [
      "\n",
      "Random Forest Metrics:\n",
      "MAE: 771445.97\n",
      "Mean: 6009712.15\n",
      "R2 Score: 0.94\n"
     ]
    }
   ],
   "source": [
    "# Podział na zbiór treningowy i testowy\n",
    "X_train, X_test, y_train, y_test = train_test_split(X, y, test_size=0.2, random_state=42)\n",
    "\n",
    "# Trenowanie i ewaluacja modeli\n",
    "results = {}\n",
    "name = 'Random Forest'\n",
    "model = models[name]\n",
    "\n",
    "model.fit(X_train, y_train)\n",
    "y_pred = model.predict(X_test)\n",
    "\n",
    "results[name] = {\n",
    "    'MAE': mean_absolute_error(y_test, y_pred),\n",
    "    'Mean': y_test.mean(),\n",
    "    'R2': r2_score(y_test, y_pred)\n",
    "}\n",
    "\n",
    "# Prezentacja wyników\n",
    "for model_name, metrics in results.items():\n",
    "    print(f\"\\n{model_name} Metrics:\")\n",
    "    print(f\"MAE: {metrics['MAE']:.2f}\")\n",
    "    print(f\"Mean: {metrics['Mean']:.2f}\")\n",
    "    print(f\"R2 Score: {metrics['R2']:.2f}\")"
   ]
  },
  {
   "cell_type": "markdown",
   "id": "ceddfbad-e0fb-450f-823e-9a7c84384870",
   "metadata": {},
   "source": [
    "<h3>wszystkie na raz</h3>"
   ]
  },
  {
   "cell_type": "code",
   "execution_count": 23,
   "id": "efe9397c-f563-4b6e-a6d2-5353369afa44",
   "metadata": {},
   "outputs": [],
   "source": [
    "results = []\n",
    "\n",
    "for i in range(2):\n",
    "    # Podział na zbiór treningowy i testowy\n",
    "    X_train, X_test, y_train, y_test = train_test_split(X, y, test_size=0.2, random_state=i)\n",
    "    \n",
    "    for name, model in models.items():\n",
    "        start = time.time()\n",
    "        model.fit(X_train, y_train)\n",
    "        stop = time.time()\n",
    "        \n",
    "        y_pred = model.predict(X_test)\n",
    "        \n",
    "        results.append({\n",
    "            'Run': i+1,\n",
    "            'Model': name,\n",
    "            'Mean': y_test.mean(),\n",
    "            'R2': r2_score(y_test, y_pred),\n",
    "            'Time': stop - start\n",
    "        })\n",
    "\n"
   ]
  },
  {
   "cell_type": "code",
   "execution_count": 26,
   "id": "d15f60a3-cea5-4ccd-90cf-10892879c9d1",
   "metadata": {},
   "outputs": [
    {
     "name": "stdout",
     "output_type": "stream",
     "text": [
      "   Run          Model          Mean        R2       Time\n",
      "0    1  Random Forest  6.030637e+06  0.935001  18.116797\n",
      "3    2  Random Forest  5.971373e+06  0.945683  17.766494\n",
      "1    1        XGBoost  6.030637e+06  0.774336   1.140022\n",
      "4    2        XGBoost  5.971373e+06  0.785781   1.065281\n",
      "2    1            cat  6.030637e+06  0.947823   3.005976\n",
      "5    2            cat  5.971373e+06  0.961607   2.935042\n"
     ]
    }
   ],
   "source": [
    "results_df = pd.DataFrame(results)\n",
    "results_df = results_df.sort_values(by=['Model', 'Run'])\n",
    "print(results_df)"
   ]
  },
  {
   "cell_type": "markdown",
   "id": "dd6401bf-5fbc-4212-8c6d-cf41adc57cfb",
   "metadata": {},
   "source": [
    "<h1>testy dla przykładowych danych</h1>"
   ]
  },
  {
   "cell_type": "code",
   "execution_count": 137,
   "id": "220accb2-ae8f-4765-b7b9-6db686b90576",
   "metadata": {},
   "outputs": [],
   "source": [
    "\n",
    "sample_data = {\n",
    "    'unit_id': [90021129],\n",
    "    'ddate': ['2023-01-30'],\n",
    "    'dtime': ['2023-01-31 01:37:24'],\n",
    "    'target': ['sp1-vm-miami-us.samknows.com'],\n",
    "    'address': ['151.139.187.1'],\n",
    "    'packets_received': [100],\n",
    "    'packets_sent': [100],\n",
    "    'packet_size': [1400],\n",
    "    'bytes_total': [140000],\n",
    "    'duration': [63061],\n",
    "    'error_code': ['NO_ERROR'],\n",
    "    'successes': [1],\n",
    "    'failures': [0]\n",
    "}\n",
    "sample_df = pd.DataFrame(sample_data)\n",
    "sample_df['dtime'] = pd.to_datetime(sample_df['dtime'])\n",
    "sample_df['hour'] = sample_df['dtime'].dt.hour\n",
    "sample_df['day_of_week'] = sample_df['dtime'].dt.dayofweek\n",
    "sample_df['day_of_month'] = sample_df['dtime'].dt.day\n",
    "sample_df = sample_df.drop(['ddate', 'dtime'], axis=1)\n",
    "\n",
    "# Predykcja\n",
    "rf_prediction = model.predict(sample_df)"
   ]
  },
  {
   "cell_type": "code",
   "execution_count": 141,
   "id": "0ed1d550-1513-480c-8861-b2cefc1bc925",
   "metadata": {},
   "outputs": [
    {
     "name": "stdout",
     "output_type": "stream",
     "text": [
      "\n",
      "=== Predykcja dla przykładowego rekordu ===\n",
      "\n",
      "Predykcja : 3697630.75\n",
      "Powinno wyjść: 2220073\n"
     ]
    }
   ],
   "source": [
    "# Wizualizacja wyniku\n",
    "print(\"\\n=== Predykcja dla przykładowego rekordu ===\")\n",
    "print(f\"\\nPredykcja : {rf_prediction[0]:.2f}\")\n",
    "print(\"Powinno wyjść: 2220073\")"
   ]
  }
 ],
 "metadata": {
  "kernelspec": {
   "display_name": "Python 3 (ipykernel)",
   "language": "python",
   "name": "python3"
  },
  "language_info": {
   "codemirror_mode": {
    "name": "ipython",
    "version": 3
   },
   "file_extension": ".py",
   "mimetype": "text/x-python",
   "name": "python",
   "nbconvert_exporter": "python",
   "pygments_lexer": "ipython3",
   "version": "3.11.4"
  }
 },
 "nbformat": 4,
 "nbformat_minor": 5
}
