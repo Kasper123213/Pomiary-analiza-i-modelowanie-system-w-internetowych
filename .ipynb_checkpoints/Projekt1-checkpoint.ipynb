{
 "cells": [
  {
   "cell_type": "code",
   "execution_count": 2,
   "id": "a166d87e-4f59-4275-ba09-00c4863b4ad8",
   "metadata": {},
   "outputs": [],
   "source": [
    "import pandas as pd\n",
    "import matplotlib.pyplot as plt"
   ]
  },
  {
   "cell_type": "code",
   "execution_count": 13,
   "id": "fd0b61ae-98a9-4e32-a74b-6766d516653a",
   "metadata": {},
   "outputs": [],
   "source": [
    "dtypes = {\n",
    "    0: 'str',  # unit_id jako tekst\n",
    "    5: 'float', 6: 'float', 7: 'float', 8: 'float', \n",
    "    9: 'float', 10: 'float', 12: 'str', 13: 'str'  # error_code, successes, failures jako tekst\n",
    "}\n",
    "\n",
    "dane = pd.read_csv('../dane/curr_lct_ul.csv', \n",
    "                   sep=',', \n",
    "                   header=0,                    \n",
    "                   dtype=dtypes\n",
    "                  )"
   ]
  },
  {
   "cell_type": "code",
   "execution_count": 12,
   "id": "0fe646ae-3c8f-4983-ad38-f6b27c1763fb",
   "metadata": {},
   "outputs": [
    {
     "name": "stdout",
     "output_type": "stream",
     "text": [
      "        packets_received\n",
      "0                  False\n",
      "1                  False\n",
      "2                  False\n",
      "3                  False\n",
      "4                  False\n",
      "...                  ...\n",
      "975849             False\n",
      "975850             False\n",
      "975851             False\n",
      "975852             False\n",
      "975853             False\n",
      "\n",
      "[975854 rows x 1 columns]\n"
     ]
    },
    {
     "name": "stderr",
     "output_type": "stream",
     "text": [
      "C:\\Users\\radom\\AppData\\Local\\Temp\\ipykernel_6836\\4156886679.py:1: FutureWarning: DataFrame.applymap has been deprecated. Use DataFrame.map instead.\n",
      "  print(dane[[\"packets_received\"]].dropna().astype(str).applymap(lambda x: x.isnumeric()))\n"
     ]
    }
   ],
   "source": [
    "print(dane[[\"packets_received\"]].dropna().astype(str).applymap(lambda x: x.isnumeric()))\n"
   ]
  }
 ],
 "metadata": {
  "kernelspec": {
   "display_name": "Python 3 (ipykernel)",
   "language": "python",
   "name": "python3"
  },
  "language_info": {
   "codemirror_mode": {
    "name": "ipython",
    "version": 3
   },
   "file_extension": ".py",
   "mimetype": "text/x-python",
   "name": "python",
   "nbconvert_exporter": "python",
   "pygments_lexer": "ipython3",
   "version": "3.11.4"
  }
 },
 "nbformat": 4,
 "nbformat_minor": 5
}
